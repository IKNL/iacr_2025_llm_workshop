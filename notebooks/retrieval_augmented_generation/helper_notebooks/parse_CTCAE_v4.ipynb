{
 "cells": [
  {
   "cell_type": "code",
   "execution_count": null,
   "id": "a02863ad",
   "metadata": {},
   "outputs": [],
   "source": [
    "import pdfplumber\n",
    "import requests\n",
    "import numpy as np\n",
    "import pandas as pd\n"
   ]
  },
  {
   "cell_type": "code",
   "execution_count": null,
   "id": "4a9ff502",
   "metadata": {},
   "outputs": [],
   "source": [
    "url = \"https://evs.nci.nih.gov/ftp1/CTCAE/CTCAE_4.03/Archive/CTCAE_4.0_2009-05-29_QuickReference_8.5x11.pdf\"\n",
    "filename = \"CTCAE_v4.pdf\"\n",
    "response = requests.get(url)\n",
    "with open(filename, 'wb') as f:\n",
    "    f.write(response.content)"
   ]
  },
  {
   "cell_type": "code",
   "execution_count": null,
   "id": "16d8e332",
   "metadata": {},
   "outputs": [],
   "source": [
    "ctcae = pd.DataFrame(columns=[\"Name\", \"Grade1\", \"Grade2\", \"Grade3\", \"Grade4\", \"Grade5\", \"Definition\", \"Group\"])\n",
    "\n",
    "pdf_path = \"CTCAE_v4.pdf\" # make sure this is the correct path to the PDF file\n",
    "with pdfplumber.open(pdf_path) as pdf:\n",
    "    print(f\"PDF has {len(pdf.pages)} pages\")\n",
    "    \n",
    "    # Check first few pages for tables\n",
    "    for i in np.arange(2, 78): # we only give here the pages that include tables\n",
    "        print(i)\n",
    "        page = pdf.pages[i]\n",
    "        title = page.extract_tables()[1][0][0] # grand title of the page\n",
    "        for row in page.extract_tables()[1][3:]:\n",
    "            row = [i.replace(\"\\n\", \" \") for i in row if i is not None]\n",
    "            if \"Definition:\" not in row[0]:\n",
    "                new_row = {\n",
    "                    \"Name\": row[0],\n",
    "                    \"Grade1\": row[1],\n",
    "                    \"Grade2\": row[2],\n",
    "                    \"Grade3\": row[3],\n",
    "                    \"Grade4\": row[4],\n",
    "                    \"Grade5\": row[5],\n",
    "                }\n",
    "                ctcae = pd.concat([ctcae, pd.DataFrame([new_row])])\n",
    "                ctcae.reset_index(drop=True, inplace=True)\n",
    "            else:\n",
    "                ctcae.loc[ctcae.index[-1],'Definition'] = row[0].split(\"Definition: \")[1] # the last entry of Definition\n",
    "            ctcae.loc[ctcae.index[-1],'Group'] = title\n"
   ]
  },
  {
   "cell_type": "code",
   "execution_count": null,
   "id": "83d4e04b",
   "metadata": {},
   "outputs": [],
   "source": [
    "ctcae.to_excel(\"CTCAE_v4.xlsx\", index=False)"
   ]
  },
  {
   "cell_type": "code",
   "execution_count": null,
   "id": "771f3186",
   "metadata": {},
   "outputs": [],
   "source": []
  }
 ],
 "metadata": {
  "kernelspec": {
   "display_name": "workshop-rag",
   "language": "python",
   "name": "python3"
  },
  "language_info": {
   "codemirror_mode": {
    "name": "ipython",
    "version": 3
   },
   "file_extension": ".py",
   "mimetype": "text/x-python",
   "name": "python",
   "nbconvert_exporter": "python",
   "pygments_lexer": "ipython3",
   "version": "3.12.11"
  }
 },
 "nbformat": 4,
 "nbformat_minor": 5
}
