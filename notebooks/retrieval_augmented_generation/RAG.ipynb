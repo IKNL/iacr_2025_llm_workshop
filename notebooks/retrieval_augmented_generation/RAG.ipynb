{
  "cells": [
    {
      "cell_type": "markdown",
      "source": [
        "# General Instructions\n",
        "\n",
        "To run each cell of Collab just press the play button (![image.png](data:image/png;base64,iVBORw0KGgoAAAANSUhEUgAAACMAAAAfCAYAAABtYXSPAAAAAXNSR0IArs4c6QAAAARnQU1BAACxjwv8YQUAAAAJcEhZcwAADsMAAA7DAcdvqGQAAANXSURBVFhHzZfLT1NBFMZPy6M8Fi1pCwRkBwksMIEaqMFEMPG5QBONK8SFxn8Kca24V8DEBw/FwkoeS0m8bATbtAnQ8krtN5z2cqczt3OVBb/khnuGe+d8d+bMOae+eDyepwuCn/9eCDytTHV1NdXV1VEgEKCqqipx+Xw+yufzdHJyIq6DgwPK5XJ0fHzMb5ljJKa+vp4aGxuptraWRypzeHhIe3t7lM1meaQyrttUU1ND4XCYmpqaPAkBeB7v4X3MY4JWTENDA0WjUbEl/wPexzyYrxJKMdiSUCjE1vmA+TCvG2Uxgy+oJKS5pZna2y9RMBQUW4CgTSVTZFkWZdJpfkpNuvD//f19tpw4xGBiLKmO7p5u6r8So9bWVh4pZ/PnJi0nErRlbfFIOTs7O3R0dMSWjUMMgk0VI36/n+7cuyvEmJL4nqCFuXm2nGAlk8kkWzalmMHx1Ql5+PiRJyFgYHCAbt6+xZYT+IE/mZIYXXBhRTo6OtjyRu/lXhq8GmfLicqfEIPMqsojWA3ViiT/JGljfYMtd4auDVEkEmHLBv7g9yxCDFK8CgSrjul37+ntm6lCoFo8oqcv1sd3TmS/QowqVnB83U4NsH5ZNPV6imanZyiTyfBoOd09PXznRPYrxKDgySCPmLK2ukavJiZp6dsSjzhBymhrb2PLRvarFYOE5gVU7q8LizQ58VIZT6pEqhSDNkDGtLjJZNIZEU+fP37ikVNU88l+hRh8lQwS07/Q2dVJY+NjNHxjhEdOUc0n+xVi0BTJoNZ4IdocpdEHo4XrfiH4W3jUJpUqn0/2qxWDomcCTsT1kWF68nS8sCpdPOpkd3eXtn9vs2WjFKNaQlRfFD03+mP99OzFc4q55COwsbbOd05kv0IMelYVqL46inGhS5hFMPfKygpbTmS/QgyaZ/SsMmgDUH1lwpGwMi5U4FTlsuUfC39y0y7EADTPKtAGrP5YZcsb81/mtDVM5a8kBl287jh/mJmlxUJCMwXLj1yznFjmESfwo/rV4KnTQ/VF0UOtUSUxnBoEK2JEtTVFjDo9YNIDA9QaPAdR+FLkEdXxlTHugYug8QkGvdUmE1DZdbEJSjFzFryALzhPMJ+bEKAUA7CU2FtdUJuC9zGPbmtsiP4CaZtfrxIZzKwAAAAASUVORK5CYII=)) or simply press:\n",
        "\n",
        "`Shift + Enter`\n",
        "\n",
        "\n",
        "---\n",
        "\n",
        " **NOTE**: To use the GPU, go to\n",
        "**Runtime > Change runtime type > Hardware accelerator > GPU > GPU type > T4**.\n",
        "\n",
        "---\n",
        "\n"
      ],
      "metadata": {
        "id": "t-90gYT-Ko0k"
      }
    },
    {
      "cell_type": "markdown",
      "source": [
        "# Installing dependencies"
      ],
      "metadata": {
        "id": "U6ogezEoV6V_"
      }
    },
    {
      "cell_type": "code",
      "execution_count": null,
      "metadata": {
        "id": "FSgiRc1mnl2V"
      },
      "outputs": [],
      "source": [
        "!pip install --upgrade langchain==0.2.5 langchain-community==0.2.5 sentence-transformers==3.0.1 chromadb==1.0.15 setuptools #colab-xterm\n",
        "!pip install llama-cpp-python --extra-index-url https://abetlen.github.io/llama-cpp-python/whl/cu124 #!pip install llama-cpp-python==0.2.78  --extra-index-url https://abetlen.github.io/llama-cpp-python/whl/cu124"
      ]
    },
    {
      "cell_type": "markdown",
      "source": [
        "\n",
        " ---\n",
        "\n",
        " **NOTE:** After installing the dependences, you need to restart session (click \"Runtime\" on the top menu and go to the relevant button)\n",
        "\n",
        " ---\n",
        "\n"
      ],
      "metadata": {
        "id": "rm5FWnNIsohC"
      }
    },
    {
      "cell_type": "markdown",
      "source": [
        "# Packages"
      ],
      "metadata": {
        "id": "t2H8WNGbA18N"
      }
    },
    {
      "cell_type": "code",
      "source": [
        "import pandas as pd\n",
        "from langchain_core.prompts import PromptTemplate\n",
        "from langchain_community.vectorstores import Chroma\n",
        "from langchain_community.embeddings import SentenceTransformerEmbeddings\n",
        "from langchain.chains import LLMChain\n",
        "from langchain import LlamaCpp"
      ],
      "metadata": {
        "id": "HVrXcwyesXgo"
      },
      "execution_count": null,
      "outputs": []
    },
    {
      "cell_type": "markdown",
      "source": [
        "# Downloand a Large Language Model"
      ],
      "metadata": {
        "id": "1YLQ0_yEtGfe"
      }
    },
    {
      "cell_type": "code",
      "source": [
        "!wget https://huggingface.co/microsoft/Phi-3-mini-4k-instruct-gguf/resolve/main/Phi-3-mini-4k-instruct-q4.gguf"
      ],
      "metadata": {
        "id": "OgJt1ks5MLIE"
      },
      "execution_count": null,
      "outputs": []
    },
    {
      "cell_type": "code",
      "source": [
        "llm = LlamaCpp(\n",
        "    model_path=\"Phi-3-mini-4k-instruct-q4.gguf\",\n",
        "    n_gpu_layers=-1,\n",
        "    max_tokens=1000,\n",
        "    n_ctx=2048,\n",
        "    seed=42,\n",
        "    verbose=False\n",
        ")"
      ],
      "metadata": {
        "id": "m7Q5f5BDUKaD"
      },
      "execution_count": null,
      "outputs": []
    },
    {
      "cell_type": "markdown",
      "source": [
        "# Load Data"
      ],
      "metadata": {
        "id": "SMqS335DA561"
      }
    },
    {
      "cell_type": "markdown",
      "source": [
        "We need to uplaod the data to Collab. To do this go to the left side at the files tab and press this icon:  ![image.png](data:image/png;base64,iVBORw0KGgoAAAANSUhEUgAAACIAAAAlCAYAAAAnQjt6AAAAAXNSR0IArs4c6QAAAARnQU1BAACxjwv8YQUAAAAJcEhZcwAADsMAAA7DAcdvqGQAAAI0SURBVFhHxZhLbsIwEIYn4Sk4RCqEoFu6StfQnqAtj/tU7S2qdlGg7VUKm7JoxYZDIPFO9VtxMMLBsSHkkywSJzPzZ2xPTCzXdT2KSCqVYs22bbIsK/gFnufRZrMJftfrNWtRUQpBoGw2GwjQgQtaLBZM4CFCPXMBxWKRMpmMtggAG9jCB3zx7MmQek+n01QoFJjxqYAv+IRvGXtCYJDP5w+qNwU+4Vv2gDtCwm46NfxhRQIhuBCWtjhALFEMEwKF5xTBQUw+ArZ4kgQ8CXYul/O7kgMarEajoaysjdsbcq/dg8OHgvX3+0f9bo8VMl2kdUTEcRyqXdWUcwhLs1KtULPdMip+yoyUy2W6a96z46/+J43HY3Yswu/BKjDNjL50BaaZObkQYCImFiFAV0xsQgDEOBcOlUolvyeck0xWGbp2sWZEh6OEYOxbnTZrJrVDxNgagTERq5dV1kwLGcfIkovAqsCE1F0hMrStsAdtdbYiOMeK0bbArhwbcpTv0c+IZrMZazhGH7Rhx6+LthAEw3vk7eWVht8Dv5fYMfp67z1aLpd+b3SMBhRiJpOJf7YFfTovOhEjIXFwlBBUy+fHJ9aiVtwwlCUeG6OHdpP9WzNhOp3SR7cvHUoRZUbgYDgY0mq18nuiAxvYqkQAq16ve2I9SALs6uz5fO6fJgc02EgfPhskBWJDA5sj/OTciEkIJivK9DnFIBZicnZWDS6cY5gQQxQB9pYvv0n1qckE+JQ/LNE/Z4IIfdt4ypIAAAAASUVORK5CYII=)\n",
        "\n",
        "The side bar looks like that:\n",
        "\n",
        "![image.png](data:image/png;base64,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)\n",
        "\n"
      ],
      "metadata": {
        "id": "uJI4Kjs2Kso7"
      }
    },
    {
      "cell_type": "code",
      "execution_count": null,
      "metadata": {
        "id": "6U_CrydNoN4b"
      },
      "outputs": [],
      "source": [
        "ctcae = pd.read_excel(\"CTCAE_v4.xlsx\")"
      ]
    },
    {
      "cell_type": "markdown",
      "source": [
        "Let's have a look at the data:"
      ],
      "metadata": {
        "id": "o9URnZsdMJrl"
      }
    },
    {
      "cell_type": "code",
      "source": [
        "ctcae.head()"
      ],
      "metadata": {
        "id": "HBReIN1Vh7oS"
      },
      "execution_count": null,
      "outputs": []
    },
    {
      "cell_type": "markdown",
      "source": [
        "# Let's prepare the data"
      ],
      "metadata": {
        "id": "5xyMScmiBRl9"
      }
    },
    {
      "cell_type": "markdown",
      "source": [
        "We have two types of info:\n",
        "\n",
        "\n",
        "*   Definitions of Adverse Effects (AE)\n",
        "*   Gradings and their criteria\n",
        "\n",
        "We need to prepare each AE to be a \"chunk\" of relevant information. This is sometimes done through \"Splitters\" in an automatic way, but since we know here that each AE is an \"exhaustive\" entry of our Data Base, we will create a long piece of text corresponding to each AE.\n"
      ],
      "metadata": {
        "id": "CczGfNDPBYOH"
      }
    },
    {
      "cell_type": "code",
      "execution_count": null,
      "metadata": {
        "id": "gILC2OA6onZr"
      },
      "outputs": [],
      "source": [
        "definitions = ctcae['Name'] + ' is ' + ctcae['Definition'].apply(lambda x: \"[No definition provided.]\" if pd.isna(x) else x.lower())"
      ]
    },
    {
      "cell_type": "code",
      "execution_count": null,
      "metadata": {
        "id": "cwF-uQQbo7xa"
      },
      "outputs": [],
      "source": [
        "# do the same for gradesbbb\n",
        "gradings = \" The grading criteria for this adverse effect is as follows: \" + \\\n",
        "' Grade 1: ' + ctcae['Grade1'].apply(lambda x: \"[No text provided.]\" if pd.isna(x) else x)  + \\\n",
        "'. Grade 2: ' + ctcae['Grade2'].apply(lambda x: \"[No text provided.]\" if pd.isna(x) else x)  + \\\n",
        "'. Grade 3: ' + ctcae['Grade3'].apply(lambda x: \"[No text provided.]\" if pd.isna(x) else x)  + \\\n",
        "'. Grade 4: ' + ctcae['Grade4'].apply(lambda x: \"[No text provided.]\" if pd.isna(x) else x)  + \\\n",
        "'. Grade 5: ' + ctcae['Grade5']"
      ]
    },
    {
      "cell_type": "code",
      "execution_count": null,
      "metadata": {
        "id": "hN8PopsHo-cG"
      },
      "outputs": [],
      "source": [
        "database_ctcae = (definitions + gradings).tolist()"
      ]
    },
    {
      "cell_type": "markdown",
      "source": [
        "We create a big list (i.e., a collection of Definitions and their respective gradings). Let's have a look at the first three:"
      ],
      "metadata": {
        "id": "C_5fZblaBnPX"
      }
    },
    {
      "cell_type": "code",
      "execution_count": null,
      "metadata": {
        "id": "RU8ltM5JpCIG"
      },
      "outputs": [],
      "source": [
        "database_ctcae[:3]"
      ]
    },
    {
      "cell_type": "markdown",
      "source": [
        "# Retrieval-Augmented Generation (RAG)\n",
        "\n",
        "## Introduction\n",
        "RAG is a technique increasing used in LLMs that generate text (e.g., chatbots). Assume that you type an input text to a chatbot. RAG is a process that involves two steps:\n",
        "\n",
        "*   Retrieval of relevant information based on the input text\n",
        "*   Generation of text based on the retrieval\n",
        "\n",
        "RAG can be a simple or a complicated pipeline. Here we will work on the so-called \"naive\" RAG pipeline shown below:\n",
        "\n",
        "![image.png](data:image/png;base64,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)\n",
        "\n",
        "(source: https://arxiv.org/abs/2312.10997)\n",
        "\n",
        "---\n",
        "\n",
        "\n",
        "\n",
        "\n"
      ],
      "metadata": {
        "id": "kUTNIQsECSlf"
      }
    },
    {
      "cell_type": "markdown",
      "source": [
        "\n",
        "For example, suppose you ask the chatbot about specific cancer information (we will see this in a moment), which the chatbot has not seen in its training data or is still unable to correctly identify in its output (e.g., because it is a small model with only a few parameters, and therefore its performance is not stellar). RAG allows you to \"plug in\" a data base (DB) to the model, such as a cancer-specific guideline or research papers and therefore it helps the model produce good-quality responses. In this example, RAG means:\n",
        "\n",
        "1.    The most relevant cancer information from the DB are retrieved\n",
        "2.    These retrievals are put within the prompt (input) of the LLM\n",
        "3.    The model is instructed to base its responses to the retrievals put in the context (prompt-engineering; see below)\n",
        "\n",
        "---"
      ],
      "metadata": {
        "id": "Jwc5mVGfSeJ5"
      }
    },
    {
      "cell_type": "markdown",
      "source": [
        "## Why is RAG important?\n",
        "RAG is has nice features that make it useful for LLMs and evidence-based search in general:\n",
        "\n",
        "* Accuracy: By grounding responses in retrieved documents, RAG reduces \"hallucinations\" (made-up inaccurate LLM responses).\n",
        "* Domain adaptation: You can connect LLMs to specialized or private datasets (like the CTCAE database)\n",
        "* Up-to-date answers: LLMs are trained on data up to a certain point and can't know recent facts. RAG lets them access the latest information from external sources.\n",
        "* Most importantly, efficiency: RAG avoids the need to retrain LLMs (a costly and technically difficult procedure)\n",
        "\n",
        "Example of RAG for cancer information (source: https://cancer.jmir.org/2025/1/e70176):\n",
        "\n",
        "<div align=\"center\">\n",
        "\n",
        "> *\"For the chatbots that used information from CIS, the hallucination rates were 0% for GPT-4 and 6% for GPT-3.5, whereas those for chatbots that used information from Google were 6% and 10% for GPT-4 and GPT-3.5, respectively […] The hallucination rates for conventional chatbots were approximately 40%.\"*\n",
        "> <br><br>\n",
        "> Nishisako S, Higashi T, Wakao F<br>\n",
        "> **Reducing Hallucinations and Trade-Offs in Responses in Generative AI Chatbots for Cancer Information: Development and Evaluation Study**<br>\n",
        "JMIR Cancer 2025;11:e70176;\n",
        "> doi: 10.2196/70176\n",
        "\n",
        "</div>"
      ],
      "metadata": {
        "id": "yA9aPbrUR2ER"
      }
    },
    {
      "cell_type": "markdown",
      "source": [
        "---\n",
        "\n",
        "## STEP 1: Data Retrieval\n",
        "\n",
        "In RAG, the first step is to retrieve the most relevant information from a data base (DB). However, since computers are good with numbers, the retrieval happens at the level of embeddings. Therefore, the steps are as follows:\n",
        "\n",
        "1. We have prepared chunks of relevant information\n",
        "2. We transform these chunks into embeddings (based on an LLM)\n",
        "3. We transform the query (text input of the LLM) into embeddings too\n",
        "4. We retrieve the \"most similar\" embeddings from the DB to our query\n",
        "5. We retrieve the respective chunks corresponding to \"most similar\" embeddings  "
      ],
      "metadata": {
        "id": "ZJPkf0oMF3y6"
      }
    },
    {
      "cell_type": "markdown",
      "source": [
        "### We create a DB of embeddings\n",
        "We use a specific library called LangChain (https://www.langchain.com/).\n",
        "\n",
        "LangChain is an open-source Python framework designed to  build applications powered by LLMs like GPT, Llama, etc. It is very powerful and can be used for simple applications (like our RAG) to even AI Agents.\n",
        "\n",
        "Here we use a specific LLM to create embeddings from the CTCAE data. The model called \"all-MiniLM-L6-v2\" comes from sentence transformers which is used to create embeddings of sentences or small paragraphs (https://sbert.net/)."
      ],
      "metadata": {
        "id": "hS3fSspYB5vm"
      }
    },
    {
      "cell_type": "code",
      "execution_count": null,
      "metadata": {
        "id": "j23nRfxRpFEV"
      },
      "outputs": [],
      "source": [
        "from langchain_core.documents import Document\n",
        "documents = [Document(page_content=str(entry)) for entry in database_ctcae]"
      ]
    },
    {
      "cell_type": "code",
      "execution_count": null,
      "metadata": {
        "id": "C1hvJURtpF_v"
      },
      "outputs": [],
      "source": [
        "Chroma(\n",
        "    persist_directory=\"db\"\n",
        ").delete_collection()  # here I clean the previous DB creations\n",
        "\n",
        "vectorstore = Chroma.from_documents(\n",
        "    documents=documents,\n",
        "    embedding=SentenceTransformerEmbeddings(\n",
        "        model_name=\"sentence-transformers/all-MiniLM-L6-v2\" # general language model\n",
        "        #model_name=\"neuml/pubmedbert-base-embeddings\" # pubmed specific model\n",
        "    ),\n",
        "    persist_directory=\"db\",\n",
        ")"
      ]
    },
    {
      "cell_type": "code",
      "source": [],
      "metadata": {
        "id": "AZsoyR5RslHh"
      },
      "execution_count": null,
      "outputs": []
    },
    {
      "cell_type": "markdown",
      "source": [
        "## STEP 2: Prompt engineering"
      ],
      "metadata": {
        "id": "-BVIwcz_JaZm"
      }
    },
    {
      "cell_type": "markdown",
      "source": [
        "### Main Components of Prompt Engineering\n",
        "\n",
        "- **Role/Persona**  \n",
        "  Defining the model’s role or perspective (e.g., \"Act as a medical doctor\", \"You are a helpful cancer assistant \").\n",
        "\n",
        "- **Instruction/Task**  \n",
        "  Clear guidance on what you want the model to do (e.g., \"Summarize this text\", \"Find the ICD-O-3 code\").\n",
        "\n",
        "- **Context**  \n",
        "  Background information or relevant data to help the model understand the task (e.g., sample data, or an excerpt from a medical Data Base). This is where RAG comes in.\n",
        "\n",
        "- **Input Data**  \n",
        "  The specific text, code, or data you want the model to process.\n",
        "\n",
        "- **Output Format**  \n",
        "  Specification of the desired format for the response (e.g., list, table, maybe style of the text [e.g., medical doctor]).\n",
        "\n",
        "- **Constraints**  \n",
        "  Any rules or limitations (e.g., word limit, style, tone, language).\n",
        "\n",
        "- **Examples (Few-shot Learning)**  \n",
        "  Sample inputs and outputs to guide the model’s behavior. This will allow the model to \"learn\" from these examples, without actually training the model.\n",
        "\n",
        "\n",
        "Note: this is not the best way to order the prompt neccessarily. It is a matter of trial and error. Try out different prompt templates and see how they look.\n",
        "\n"
      ],
      "metadata": {
        "id": "8Vd2mj-Kr6J-"
      }
    },
    {
      "cell_type": "code",
      "execution_count": null,
      "metadata": {
        "id": "2aPB0rnPqNqA"
      },
      "outputs": [],
      "source": [
        "templateQA_trial1 = \"\"\"\n",
        "Respond to the following question based on the context.\n",
        "\n",
        "CONTEXT\n",
        "{context}\n",
        "\n",
        "QUESTION:\n",
        "{question}\n",
        "\"\"\"\n"
      ]
    },
    {
      "cell_type": "code",
      "source": [
        "\n",
        "templateQA_trial2 = \"\"\"\n",
        "<|user|>ROLE:\n",
        "ROLE:\n",
        "You are a medical assistant chatbot trained to help users understand adverse events based on the Common Terminology Criteria for Adverse Events (CTCAE).\n",
        "\n",
        "TASK:\n",
        "You use a specialized knowledge base that includes the official CTCAE definitions and grading of adverse events, to respond to questions about adverse events.\n",
        "\n",
        "RETRIEVED CTCAE CONTEXT:\n",
        "{context}\n",
        "\n",
        "QUESTION:\n",
        "{question}<|end|>\n",
        "<|assistant|>\n",
        "\"\"\"\n"
      ],
      "metadata": {
        "id": "sbv_TLPbSAYH"
      },
      "execution_count": null,
      "outputs": []
    },
    {
      "cell_type": "code",
      "source": [
        "\n",
        "templateQA_trial3 = \"\"\"\n",
        "<|user|>ROLE:\n",
        "You are a medical assistant chatbot trained to help users understand adverse events based on the Common Terminology Criteria for Adverse Events (CTCAE).\n",
        "\n",
        "TASK:\n",
        "You use a specialized knowledge base that includes the official CTCAE definitions and grading of adverse events, to respond to questions about adverse events.\n",
        "\n",
        "INSTRUCTIONS:\n",
        "1. Use the retrieved CTCAE definitions and grading provided in the context below\n",
        "2. Identify which context information is relevant to the question(s)\n",
        "3. Use only the relevant context information to answer the question(s)\n",
        "4. Reference the retrieved CTCAE information to support your response\n",
        "\n",
        "RETRIEVED CTCAE CONTEXT:\n",
        "{context}\n",
        "\n",
        "QUESTION:\n",
        "{question}<|end|>\n",
        "<|assistant|>\n",
        "\"\"\"\n"
      ],
      "metadata": {
        "id": "jKMOlFgKSCox"
      },
      "execution_count": null,
      "outputs": []
    },
    {
      "cell_type": "code",
      "source": [
        "\n",
        "templateQA = \"\"\"\n",
        "<|user|>\n",
        "ROLE:\n",
        "You are a medical assistant chatbot trained to help users understand adverse events based on the Common Terminology Criteria for Adverse Events (CTCAE).\n",
        "\n",
        "TASK:\n",
        "You use a specialized knowledge base that includes the official CTCAE definitions and grading of adverse events, to respond to questions about adverse events.\n",
        "\n",
        "INSTRUCTIONS:\n",
        "1. Use the retrieved CTCAE definitions and grading provided in the context below\n",
        "2. Identify which context information is relevant to the question(s)\n",
        "3. Use the relevant context to answer the question(s)\n",
        "4. Reference the retrieved CTCAE information to support your response\n",
        "\n",
        "GUIDELINES:\n",
        "- Base your responses strictly on the retrieved CTCAE context provided below\n",
        "- Do not infer or assume any information not present in the context below\n",
        "- If the retrieved context doesn't contain relevant information to the question, state this clearly \"I do not know\"\n",
        "\n",
        "RETRIEVED CTCAE CONTEXT:\n",
        "{context}\n",
        "\n",
        "QUESTION:\n",
        "{question}<|end|>\n",
        "<|assistant|>\n",
        "\"\"\"\n"
      ],
      "metadata": {
        "id": "cpDMQAvJSETz"
      },
      "execution_count": null,
      "outputs": []
    },
    {
      "cell_type": "code",
      "source": [],
      "metadata": {
        "id": "m69vPPuFSBHP"
      },
      "execution_count": null,
      "outputs": []
    },
    {
      "cell_type": "code",
      "execution_count": null,
      "metadata": {
        "id": "FftQg0BSrDVg"
      },
      "outputs": [],
      "source": [
        "#question = \"What is anemia?\"\n",
        "#question = \"what is the difference between grade 2 and 3 in anemia?\"\n",
        "#question = \"which is the adverse effect where breathing stops during sleep?\"\n",
        "#question = \"which adverse effects have hypertension?\"\n",
        "#question = \"Hemoglobin is too high. which adverse effect is this?\"\n",
        "#question = \"Which  grade is it when Hemoglobin is 4.1 gm/dL above baseline?\" # why this fails? # 3.7 is OK\n",
        "#question = \"Determine grade 4 of high cholesterole\" # why this fails?\n",
        "#question = \"Intraoperative information in the head and brain\"\n",
        "#question = \"THe hemorrhage occured after the surgery; is this defined as Intraoperative or Postoperative?\"\n",
        "#question = \"Which adverse effects have low hemoglobin?\"\n",
        "question = \"which adverse effects relate to the retina? just list\""
      ]
    },
    {
      "cell_type": "markdown",
      "source": [
        "## STEP 3: Retrieval fo relevant information"
      ],
      "metadata": {
        "id": "8kOln1fUKhIC"
      }
    },
    {
      "cell_type": "code",
      "execution_count": null,
      "metadata": {
        "id": "ouVImAuqrFrO"
      },
      "outputs": [],
      "source": [
        "context = vectorstore.similarity_search(question, k=10) # K refers to the number of most relevant text chunks that are retrieved\n",
        "context"
      ]
    },
    {
      "cell_type": "markdown",
      "source": [
        "## STEP 4: Set up an LLM chain"
      ],
      "metadata": {
        "id": "eDppQxWTJvSY"
      }
    },
    {
      "cell_type": "code",
      "source": [
        "prompt_template = PromptTemplate(\n",
        "    template=templateQA,\n",
        "    input_variable=[\"context\", \"question\"],\n",
        ")"
      ],
      "metadata": {
        "id": "g6sk-RIQthsP"
      },
      "execution_count": null,
      "outputs": []
    },
    {
      "cell_type": "code",
      "source": [
        "llm_chain = LLMChain(llm=llm, prompt=prompt_template)\n"
      ],
      "metadata": {
        "id": "l7hSiwJwJnqf"
      },
      "execution_count": null,
      "outputs": []
    },
    {
      "cell_type": "markdown",
      "source": [
        "## STEP 5: Give input to the LLM and produce text"
      ],
      "metadata": {
        "id": "2qOd6_ynKEo0"
      }
    },
    {
      "cell_type": "code",
      "execution_count": null,
      "metadata": {
        "id": "4Heetb3arG79"
      },
      "outputs": [],
      "source": [
        "qa_chain = llm_chain.invoke({\"context\": \" \".join([i.page_content for i in context]), \"question\": question})\n"
      ]
    },
    {
      "cell_type": "code",
      "execution_count": null,
      "metadata": {
        "id": "zEIH4Fo9rIYp"
      },
      "outputs": [],
      "source": [
        "print(qa_chain['text'])"
      ]
    },
    {
      "cell_type": "code",
      "source": [
        "#import textwrap\n",
        "\n",
        "#print(textwrap.fill(qa_chain['text'], width=88))"
      ],
      "metadata": {
        "id": "4Opu3auzKVsL"
      },
      "execution_count": null,
      "outputs": []
    },
    {
      "cell_type": "code",
      "source": [],
      "metadata": {
        "id": "ISXgdVibN7-8"
      },
      "execution_count": null,
      "outputs": []
    }
  ],
  "metadata": {
    "colab": {
      "provenance": [],
      "gpuType": "T4"
    },
    "kernelspec": {
      "display_name": "Python 3",
      "name": "python3"
    },
    "language_info": {
      "name": "python"
    },
    "accelerator": "GPU"
  },
  "nbformat": 4,
  "nbformat_minor": 0
}